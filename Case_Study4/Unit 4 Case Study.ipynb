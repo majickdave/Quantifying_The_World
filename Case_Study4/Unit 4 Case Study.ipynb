{
 "cells": [
  {
   "cell_type": "markdown",
   "metadata": {},
   "source": [
    "# Stock Market Analysis"
   ]
  },
  {
   "cell_type": "markdown",
   "metadata": {},
   "source": [
    "**Brian West, David Samuel, Kumar Raja Guvindan Raju**"
   ]
  },
  {
   "cell_type": "markdown",
   "metadata": {},
   "source": [
    "# Pulling Data\n",
    "\n",
    "Below is the code that was used to pull the data from TDAmeritrade. The actual `tda` module is a custom API for interacting with the proprietary TDAmeritrade API, so it will not work on other systems, therefore the end of this segment will save the data to a CSV file.\n",
    "\n",
    "Note that we specify January 1, 1950 as the starting date. However, the API does not support data retrieval past a certain point, so it will automatically cap the lookback. However, this ensures that we can maximum possible amount of data.\n",
    "\n",
    "**This code will not work if you do not happen to have this \"tda\" module, which is not available. Skip to the \"Reloading the Data\" section!!**"
   ]
  },
  {
   "cell_type": "code",
   "execution_count": 2,
   "metadata": {},
   "outputs": [
    {
     "ename": "ImportError",
     "evalue": "lxml not found, please install it",
     "output_type": "error",
     "traceback": [
      "\u001b[0;31m---------------------------------------------------------------------------\u001b[0m",
      "\u001b[0;31mImportError\u001b[0m                               Traceback (most recent call last)",
      "\u001b[0;32m<ipython-input-2-3b757223d123>\u001b[0m in \u001b[0;36m<module>\u001b[0;34m()\u001b[0m\n\u001b[1;32m      1\u001b[0m \u001b[0;32mimport\u001b[0m \u001b[0mpandas\u001b[0m \u001b[0;32mas\u001b[0m \u001b[0mpd\u001b[0m\u001b[0;34m\u001b[0m\u001b[0m\n\u001b[1;32m      2\u001b[0m \u001b[0;34m\u001b[0m\u001b[0m\n\u001b[0;32m----> 3\u001b[0;31m \u001b[0msp_500_index\u001b[0m \u001b[0;34m=\u001b[0m \u001b[0mpd\u001b[0m\u001b[0;34m.\u001b[0m\u001b[0mread_html\u001b[0m\u001b[0;34m(\u001b[0m\u001b[0;34m'https://en.wikipedia.org/wiki/List_of_S%26P_500_companies'\u001b[0m\u001b[0;34m,\u001b[0m \u001b[0mheader\u001b[0m\u001b[0;34m=\u001b[0m\u001b[0;36m0\u001b[0m\u001b[0;34m)\u001b[0m\u001b[0;34m[\u001b[0m\u001b[0;36m0\u001b[0m\u001b[0;34m]\u001b[0m\u001b[0;34m\u001b[0m\u001b[0m\n\u001b[0m",
      "\u001b[0;32m/usr/local/lib/python3.6/site-packages/pandas/io/html.py\u001b[0m in \u001b[0;36mread_html\u001b[0;34m(io, match, flavor, header, index_col, skiprows, attrs, parse_dates, tupleize_cols, thousands, encoding, decimal, converters, na_values, keep_default_na)\u001b[0m\n\u001b[1;32m    894\u001b[0m                   \u001b[0mthousands\u001b[0m\u001b[0;34m=\u001b[0m\u001b[0mthousands\u001b[0m\u001b[0;34m,\u001b[0m \u001b[0mattrs\u001b[0m\u001b[0;34m=\u001b[0m\u001b[0mattrs\u001b[0m\u001b[0;34m,\u001b[0m \u001b[0mencoding\u001b[0m\u001b[0;34m=\u001b[0m\u001b[0mencoding\u001b[0m\u001b[0;34m,\u001b[0m\u001b[0;34m\u001b[0m\u001b[0m\n\u001b[1;32m    895\u001b[0m                   \u001b[0mdecimal\u001b[0m\u001b[0;34m=\u001b[0m\u001b[0mdecimal\u001b[0m\u001b[0;34m,\u001b[0m \u001b[0mconverters\u001b[0m\u001b[0;34m=\u001b[0m\u001b[0mconverters\u001b[0m\u001b[0;34m,\u001b[0m \u001b[0mna_values\u001b[0m\u001b[0;34m=\u001b[0m\u001b[0mna_values\u001b[0m\u001b[0;34m,\u001b[0m\u001b[0;34m\u001b[0m\u001b[0m\n\u001b[0;32m--> 896\u001b[0;31m                   keep_default_na=keep_default_na)\n\u001b[0m",
      "\u001b[0;32m/usr/local/lib/python3.6/site-packages/pandas/io/html.py\u001b[0m in \u001b[0;36m_parse\u001b[0;34m(flavor, io, match, attrs, encoding, **kwargs)\u001b[0m\n\u001b[1;32m    721\u001b[0m     \u001b[0mretained\u001b[0m \u001b[0;34m=\u001b[0m \u001b[0;32mNone\u001b[0m\u001b[0;34m\u001b[0m\u001b[0m\n\u001b[1;32m    722\u001b[0m     \u001b[0;32mfor\u001b[0m \u001b[0mflav\u001b[0m \u001b[0;32min\u001b[0m \u001b[0mflavor\u001b[0m\u001b[0;34m:\u001b[0m\u001b[0;34m\u001b[0m\u001b[0m\n\u001b[0;32m--> 723\u001b[0;31m         \u001b[0mparser\u001b[0m \u001b[0;34m=\u001b[0m \u001b[0m_parser_dispatch\u001b[0m\u001b[0;34m(\u001b[0m\u001b[0mflav\u001b[0m\u001b[0;34m)\u001b[0m\u001b[0;34m\u001b[0m\u001b[0m\n\u001b[0m\u001b[1;32m    724\u001b[0m         \u001b[0mp\u001b[0m \u001b[0;34m=\u001b[0m \u001b[0mparser\u001b[0m\u001b[0;34m(\u001b[0m\u001b[0mio\u001b[0m\u001b[0;34m,\u001b[0m \u001b[0mcompiled_match\u001b[0m\u001b[0;34m,\u001b[0m \u001b[0mattrs\u001b[0m\u001b[0;34m,\u001b[0m \u001b[0mencoding\u001b[0m\u001b[0;34m)\u001b[0m\u001b[0;34m\u001b[0m\u001b[0m\n\u001b[1;32m    725\u001b[0m \u001b[0;34m\u001b[0m\u001b[0m\n",
      "\u001b[0;32m/usr/local/lib/python3.6/site-packages/pandas/io/html.py\u001b[0m in \u001b[0;36m_parser_dispatch\u001b[0;34m(flavor)\u001b[0m\n\u001b[1;32m    681\u001b[0m     \u001b[0;32melse\u001b[0m\u001b[0;34m:\u001b[0m\u001b[0;34m\u001b[0m\u001b[0m\n\u001b[1;32m    682\u001b[0m         \u001b[0;32mif\u001b[0m \u001b[0;32mnot\u001b[0m \u001b[0m_HAS_LXML\u001b[0m\u001b[0;34m:\u001b[0m\u001b[0;34m\u001b[0m\u001b[0m\n\u001b[0;32m--> 683\u001b[0;31m             \u001b[0;32mraise\u001b[0m \u001b[0mImportError\u001b[0m\u001b[0;34m(\u001b[0m\u001b[0;34m\"lxml not found, please install it\"\u001b[0m\u001b[0;34m)\u001b[0m\u001b[0;34m\u001b[0m\u001b[0m\n\u001b[0m\u001b[1;32m    684\u001b[0m     \u001b[0;32mreturn\u001b[0m \u001b[0m_valid_parsers\u001b[0m\u001b[0;34m[\u001b[0m\u001b[0mflavor\u001b[0m\u001b[0;34m]\u001b[0m\u001b[0;34m\u001b[0m\u001b[0m\n\u001b[1;32m    685\u001b[0m \u001b[0;34m\u001b[0m\u001b[0m\n",
      "\u001b[0;31mImportError\u001b[0m: lxml not found, please install it"
     ]
    }
   ],
   "source": [
    "import pandas as pd\n",
    "\n",
    "sp_500_index = pd.read_html('https://en.wikipedia.org/wiki/List_of_S%26P_500_companies', header=0)[0]"
   ]
  },
  {
   "cell_type": "markdown",
   "metadata": {},
   "source": [
    "This should pull the entire list of tickers that are currently listed on the S&P 500 index. Fun fact, due to the index's methodology, this actually lists 505 tickers because some companies are listed multiple times. For example, Comcast is the parent of NBC Universal and CNBC."
   ]
  },
  {
   "cell_type": "code",
   "execution_count": 3,
   "metadata": {},
   "outputs": [
    {
     "name": "stdout",
     "output_type": "stream",
     "text": [
      "How many stocks do we have? (This better be 505!): 505\n"
     ]
    },
    {
     "data": {
      "text/html": [
       "<div>\n",
       "<table border=\"1\" class=\"dataframe\">\n",
       "  <thead>\n",
       "    <tr style=\"text-align: right;\">\n",
       "      <th></th>\n",
       "      <th>Symbol</th>\n",
       "      <th>Name</th>\n",
       "      <th>SEC</th>\n",
       "      <th>Sector</th>\n",
       "      <th>Industry</th>\n",
       "      <th>Headquarters</th>\n",
       "      <th>Listed</th>\n",
       "      <th>CIK</th>\n",
       "    </tr>\n",
       "  </thead>\n",
       "  <tbody>\n",
       "    <tr>\n",
       "      <th>0</th>\n",
       "      <td>MMM</td>\n",
       "      <td>3M Company</td>\n",
       "      <td>reports</td>\n",
       "      <td>Industrials</td>\n",
       "      <td>Industrial Conglomerates</td>\n",
       "      <td>St. Paul, Minnesota</td>\n",
       "      <td>NaN</td>\n",
       "      <td>66740</td>\n",
       "    </tr>\n",
       "    <tr>\n",
       "      <th>1</th>\n",
       "      <td>ABT</td>\n",
       "      <td>Abbott Laboratories</td>\n",
       "      <td>reports</td>\n",
       "      <td>Health Care</td>\n",
       "      <td>Health Care Equipment</td>\n",
       "      <td>North Chicago, Illinois</td>\n",
       "      <td>1964-03-31</td>\n",
       "      <td>1800</td>\n",
       "    </tr>\n",
       "    <tr>\n",
       "      <th>2</th>\n",
       "      <td>ABBV</td>\n",
       "      <td>AbbVie Inc.</td>\n",
       "      <td>reports</td>\n",
       "      <td>Health Care</td>\n",
       "      <td>Pharmaceuticals</td>\n",
       "      <td>North Chicago, Illinois</td>\n",
       "      <td>2012-12-31</td>\n",
       "      <td>1551152</td>\n",
       "    </tr>\n",
       "    <tr>\n",
       "      <th>3</th>\n",
       "      <td>ACN</td>\n",
       "      <td>Accenture plc</td>\n",
       "      <td>reports</td>\n",
       "      <td>Information Technology</td>\n",
       "      <td>IT Consulting &amp; Other Services</td>\n",
       "      <td>Dublin, Ireland</td>\n",
       "      <td>2011-07-06</td>\n",
       "      <td>1467373</td>\n",
       "    </tr>\n",
       "    <tr>\n",
       "      <th>4</th>\n",
       "      <td>ATVI</td>\n",
       "      <td>Activision Blizzard</td>\n",
       "      <td>reports</td>\n",
       "      <td>Information Technology</td>\n",
       "      <td>Home Entertainment Software</td>\n",
       "      <td>Santa Monica, California</td>\n",
       "      <td>2015-08-31</td>\n",
       "      <td>718877</td>\n",
       "    </tr>\n",
       "  </tbody>\n",
       "</table>\n",
       "</div>"
      ],
      "text/plain": [
       "  Symbol                 Name      SEC                  Sector  \\\n",
       "0    MMM           3M Company  reports             Industrials   \n",
       "1    ABT  Abbott Laboratories  reports             Health Care   \n",
       "2   ABBV          AbbVie Inc.  reports             Health Care   \n",
       "3    ACN        Accenture plc  reports  Information Technology   \n",
       "4   ATVI  Activision Blizzard  reports  Information Technology   \n",
       "\n",
       "                         Industry              Headquarters      Listed  \\\n",
       "0        Industrial Conglomerates       St. Paul, Minnesota         NaN   \n",
       "1           Health Care Equipment   North Chicago, Illinois  1964-03-31   \n",
       "2                 Pharmaceuticals   North Chicago, Illinois  2012-12-31   \n",
       "3  IT Consulting & Other Services           Dublin, Ireland  2011-07-06   \n",
       "4     Home Entertainment Software  Santa Monica, California  2015-08-31   \n",
       "\n",
       "       CIK  \n",
       "0    66740  \n",
       "1     1800  \n",
       "2  1551152  \n",
       "3  1467373  \n",
       "4   718877  "
      ]
     },
     "execution_count": 3,
     "metadata": {},
     "output_type": "execute_result"
    }
   ],
   "source": [
    "print('How many stocks do we have? (This better be 505!): {}'.format(sp_500_index.shape[0]))\n",
    "sp_500_index.columns = ['Symbol', 'Name', 'SEC', 'Sector', 'Industry', 'Headquarters', 'Listed', 'CIK']\n",
    "sp_500_index.head()"
   ]
  },
  {
   "cell_type": "code",
   "execution_count": 4,
   "metadata": {},
   "outputs": [
    {
     "name": "stdout",
     "output_type": "stream",
     "text": [
      "Unit_4_Case_Study loading\n"
     ]
    }
   ],
   "source": [
    "import tda\n",
    "\n",
    "tda_session = tda.TDASession(app_name=\"Unit_4_Case_Study\")"
   ]
  },
  {
   "cell_type": "markdown",
   "metadata": {},
   "source": [
    "Unfortunately, due to an error within the TDAmeritrade API, some data does not pull correctly, so we cannot pull data in bulk."
   ]
  },
  {
   "cell_type": "code",
   "execution_count": 6,
   "metadata": {},
   "outputs": [
    {
     "name": "stdout",
     "output_type": "stream",
     "text": [
      "HTTP Error 400: Bad Request\n",
      "HTTP Error 400: Bad Request\n",
      "HTTP Error 400: Bad Request\n",
      "HTTP Error 400: Bad Request\n",
      "HTTP Error 400: Bad Request\n"
     ]
    }
   ],
   "source": [
    "bad_requests = []\n",
    "historical_data = {}\n",
    "\n",
    "for ticker in sp_500_index.Symbol:\n",
    "    results = tda_session.getHistorical(ticker, '19500101', '20170531')\n",
    "    if results == {}:\n",
    "        bad_requests.append(ticker)\n",
    "    else:\n",
    "        historical_data[ticker] = results[ticker]['prices']"
   ]
  },
  {
   "cell_type": "code",
   "execution_count": 7,
   "metadata": {
    "collapsed": true
   },
   "outputs": [],
   "source": [
    "historical_data = {k: v for k, v in historical_data.items() if len(v) >= 90}"
   ]
  },
  {
   "cell_type": "markdown",
   "metadata": {},
   "source": [
    "Some of our symbols contain only a few days of data, so we will ignore any tickers that do not contain at least 90 days of prices."
   ]
  },
  {
   "cell_type": "code",
   "execution_count": 8,
   "metadata": {},
   "outputs": [
    {
     "data": {
      "text/plain": [
       "['AMG', 'BRK.B', 'BF.B', 'SCG', 'SLG']"
      ]
     },
     "execution_count": 8,
     "metadata": {},
     "output_type": "execute_result"
    }
   ],
   "source": [
    "bad_requests"
   ]
  },
  {
   "cell_type": "markdown",
   "metadata": {},
   "source": [
    "BRK.B refers to Berkshire Hathaway Class B shares, and BF.B corresponds to Brown-Forman Class B shares. Let's write out the list of good tickers to a CSV."
   ]
  },
  {
   "cell_type": "code",
   "execution_count": 9,
   "metadata": {
    "collapsed": true
   },
   "outputs": [],
   "source": [
    "sp_500_index = sp_500_index[sp_500_index.Symbol.isin(historical_data.keys())]\n",
    "sp_500_index.to_csv('GoodSP500Symbols.csv', index=False)"
   ]
  },
  {
   "cell_type": "markdown",
   "metadata": {},
   "source": [
    "## Formatting into a data frame\n",
    "\n",
    "The data that comes back from the API is in a messy dictionary of symbols mapping to lists of daily information. Each day contains the open, low, high, close, and total volume for the symbol, along with a timestamp."
   ]
  },
  {
   "cell_type": "markdown",
   "metadata": {},
   "source": [
    "To format the data, we need to pre-allocate a `numpy` matrix. Otherwise, the data manipulation will be unreasonably slow. Each stock will of course have a different historical availability, so we need to create a matrix that will hold all records for the symbol with the most days available."
   ]
  },
  {
   "cell_type": "code",
   "execution_count": 10,
   "metadata": {},
   "outputs": [
    {
     "name": "stdout",
     "output_type": "stream",
     "text": [
      "\"BK\" has the most days with 7666 records\n",
      "\"EVHC\" has the least days with 123 records\n",
      "\n",
      "We have a total of 499 valid symbols\n"
     ]
    }
   ],
   "source": [
    "oldest_ticker = max(historical_data.keys(), key=lambda t: len(historical_data[t]))\n",
    "max_len = len(historical_data[oldest_ticker])\n",
    "print('\"{}\" has the most days with {} records'.format(oldest_ticker, max_len))\n",
    "\n",
    "youngest_ticker = min(historical_data.keys(), key=lambda t: len(historical_data[t]))\n",
    "min_len = len(historical_data[youngest_ticker])\n",
    "print('\"{}\" has the least days with {} records'.format(youngest_ticker, min_len))\n",
    "\n",
    "print('')\n",
    "print('We have a total of {} valid symbols'.format(len(historical_data.keys())))"
   ]
  },
  {
   "cell_type": "markdown",
   "metadata": {},
   "source": [
    "This tells us that we need an empty (`NaN` filled) matrix of shape `(7666, 499)` and then we need to allocate the records to it."
   ]
  },
  {
   "cell_type": "code",
   "execution_count": 11,
   "metadata": {},
   "outputs": [
    {
     "name": "stdout",
     "output_type": "stream",
     "text": [
      "(7666, 2495)\n"
     ]
    },
    {
     "data": {
      "text/plain": [
       "array([[ nan,  nan,  nan, ...,  nan,  nan,  nan],\n",
       "       [ nan,  nan,  nan, ...,  nan,  nan,  nan],\n",
       "       [ nan,  nan,  nan, ...,  nan,  nan,  nan],\n",
       "       ..., \n",
       "       [ nan,  nan,  nan, ...,  nan,  nan,  nan],\n",
       "       [ nan,  nan,  nan, ...,  nan,  nan,  nan],\n",
       "       [ nan,  nan,  nan, ...,  nan,  nan,  nan]])"
      ]
     },
     "execution_count": 11,
     "metadata": {},
     "output_type": "execute_result"
    }
   ],
   "source": [
    "import numpy as np\n",
    "\n",
    "all_tickers = sorted(historical_data.keys())\n",
    "variables = ['open', 'low', 'high', 'close', 'volume']\n",
    "\n",
    "price_matrix = np.full((max_len, 5 * len(all_tickers)), np.nan)\n",
    "print(price_matrix.shape)\n",
    "price_matrix"
   ]
  },
  {
   "cell_type": "markdown",
   "metadata": {},
   "source": [
    "One thing we need to verify is that all the days are aligned such that the last record for each symbol is on the same day. This will make it much easier to align the information in the matrix."
   ]
  },
  {
   "cell_type": "code",
   "execution_count": 12,
   "metadata": {
    "collapsed": true
   },
   "outputs": [],
   "source": [
    "from datetime import *\n",
    "\n",
    "last_date = date.fromtimestamp(historical_data[oldest_ticker][-1]['timestamp'] / 1000)\n",
    "for k, v in historical_data.items():\n",
    "    if date.fromtimestamp(v[-1]['timestamp'] / 1000) != last_date:\n",
    "        print(k)"
   ]
  },
  {
   "cell_type": "markdown",
   "metadata": {},
   "source": [
    "Because we don't see any output here, we can be sure that all the data has an endpoint of May 31, 2017. This means that we can fill the matrix from the bottom up and simply align the last record of each symbol to the last row of the price matrix."
   ]
  },
  {
   "cell_type": "code",
   "execution_count": 13,
   "metadata": {
    "collapsed": true
   },
   "outputs": [],
   "source": [
    "for i, ticker in enumerate(all_tickers):\n",
    "    records = historical_data[ticker]\n",
    "    record_count = len(records)\n",
    "    for j, variable in enumerate(variables):\n",
    "        price_matrix[-record_count:, 5*i + j] = [record[variable] for record in records]"
   ]
  },
  {
   "cell_type": "markdown",
   "metadata": {},
   "source": [
    "This gives us a full matrix of all the data available for each ticker on a daily basis."
   ]
  },
  {
   "cell_type": "code",
   "execution_count": 14,
   "metadata": {},
   "outputs": [
    {
     "data": {
      "text/plain": [
       "['A_open',\n",
       " 'A_low',\n",
       " 'A_high',\n",
       " 'A_close',\n",
       " 'A_volume',\n",
       " 'AAL_open',\n",
       " 'AAL_low',\n",
       " 'AAL_high',\n",
       " 'AAL_close',\n",
       " 'AAL_volume',\n",
       " 'AAP_open',\n",
       " 'AAP_low',\n",
       " 'AAP_high',\n",
       " 'AAP_close',\n",
       " 'AAP_volume',\n",
       " 'AAPL_open',\n",
       " 'AAPL_low',\n",
       " 'AAPL_high',\n",
       " 'AAPL_close',\n",
       " 'AAPL_volume']"
      ]
     },
     "execution_count": 14,
     "metadata": {},
     "output_type": "execute_result"
    }
   ],
   "source": [
    "column_names = ['%s_%s' % (ticker, variable) for ticker in all_tickers for variable in variables]\n",
    "column_names[0:20]"
   ]
  },
  {
   "cell_type": "code",
   "execution_count": 15,
   "metadata": {},
   "outputs": [
    {
     "data": {
      "text/html": [
       "<div>\n",
       "<table border=\"1\" class=\"dataframe\">\n",
       "  <thead>\n",
       "    <tr style=\"text-align: right;\">\n",
       "      <th></th>\n",
       "      <th>A_open</th>\n",
       "      <th>A_low</th>\n",
       "      <th>A_high</th>\n",
       "      <th>A_close</th>\n",
       "      <th>A_volume</th>\n",
       "      <th>AAL_open</th>\n",
       "      <th>AAL_low</th>\n",
       "      <th>AAL_high</th>\n",
       "      <th>AAL_close</th>\n",
       "      <th>AAL_volume</th>\n",
       "      <th>...</th>\n",
       "      <th>ZION_open</th>\n",
       "      <th>ZION_low</th>\n",
       "      <th>ZION_high</th>\n",
       "      <th>ZION_close</th>\n",
       "      <th>ZION_volume</th>\n",
       "      <th>ZTS_open</th>\n",
       "      <th>ZTS_low</th>\n",
       "      <th>ZTS_high</th>\n",
       "      <th>ZTS_close</th>\n",
       "      <th>ZTS_volume</th>\n",
       "    </tr>\n",
       "  </thead>\n",
       "  <tbody>\n",
       "    <tr>\n",
       "      <th>7661</th>\n",
       "      <td>58.500000</td>\n",
       "      <td>58.072498</td>\n",
       "      <td>59.340000</td>\n",
       "      <td>59.230000</td>\n",
       "      <td>40488.230469</td>\n",
       "      <td>46.740002</td>\n",
       "      <td>46.650002</td>\n",
       "      <td>47.430000</td>\n",
       "      <td>46.770000</td>\n",
       "      <td>38422.710938</td>\n",
       "      <td>...</td>\n",
       "      <td>41.009998</td>\n",
       "      <td>40.320000</td>\n",
       "      <td>41.160000</td>\n",
       "      <td>40.700001</td>\n",
       "      <td>25622.570312</td>\n",
       "      <td>61.430000</td>\n",
       "      <td>61.389999</td>\n",
       "      <td>62.485001</td>\n",
       "      <td>62.299999</td>\n",
       "      <td>36707.250000</td>\n",
       "    </tr>\n",
       "    <tr>\n",
       "      <th>7662</th>\n",
       "      <td>59.459999</td>\n",
       "      <td>58.919998</td>\n",
       "      <td>59.700001</td>\n",
       "      <td>59.299999</td>\n",
       "      <td>23558.679688</td>\n",
       "      <td>46.990002</td>\n",
       "      <td>46.820000</td>\n",
       "      <td>48.119999</td>\n",
       "      <td>48.020000</td>\n",
       "      <td>52001.031250</td>\n",
       "      <td>...</td>\n",
       "      <td>40.820000</td>\n",
       "      <td>40.529999</td>\n",
       "      <td>41.189999</td>\n",
       "      <td>40.880001</td>\n",
       "      <td>31236.640625</td>\n",
       "      <td>62.560001</td>\n",
       "      <td>62.169998</td>\n",
       "      <td>62.635799</td>\n",
       "      <td>62.580002</td>\n",
       "      <td>28093.179688</td>\n",
       "    </tr>\n",
       "    <tr>\n",
       "      <th>7663</th>\n",
       "      <td>59.230000</td>\n",
       "      <td>59.041000</td>\n",
       "      <td>59.720001</td>\n",
       "      <td>59.509998</td>\n",
       "      <td>15067.669922</td>\n",
       "      <td>47.790001</td>\n",
       "      <td>47.729401</td>\n",
       "      <td>48.820000</td>\n",
       "      <td>48.740002</td>\n",
       "      <td>59271.910156</td>\n",
       "      <td>...</td>\n",
       "      <td>40.889999</td>\n",
       "      <td>40.404999</td>\n",
       "      <td>41.200001</td>\n",
       "      <td>40.450001</td>\n",
       "      <td>21795.910156</td>\n",
       "      <td>62.779999</td>\n",
       "      <td>62.384998</td>\n",
       "      <td>63.110001</td>\n",
       "      <td>62.610001</td>\n",
       "      <td>19622.800781</td>\n",
       "    </tr>\n",
       "    <tr>\n",
       "      <th>7664</th>\n",
       "      <td>59.509998</td>\n",
       "      <td>59.410000</td>\n",
       "      <td>60.480000</td>\n",
       "      <td>60.369999</td>\n",
       "      <td>25645.849609</td>\n",
       "      <td>48.320000</td>\n",
       "      <td>47.790001</td>\n",
       "      <td>48.577499</td>\n",
       "      <td>47.959999</td>\n",
       "      <td>53889.179688</td>\n",
       "      <td>...</td>\n",
       "      <td>40.130001</td>\n",
       "      <td>39.599998</td>\n",
       "      <td>40.320000</td>\n",
       "      <td>39.869999</td>\n",
       "      <td>32547.800781</td>\n",
       "      <td>62.369999</td>\n",
       "      <td>61.860001</td>\n",
       "      <td>62.700001</td>\n",
       "      <td>62.259998</td>\n",
       "      <td>28803.050781</td>\n",
       "    </tr>\n",
       "    <tr>\n",
       "      <th>7665</th>\n",
       "      <td>60.439999</td>\n",
       "      <td>59.450001</td>\n",
       "      <td>60.810001</td>\n",
       "      <td>60.340000</td>\n",
       "      <td>23981.449219</td>\n",
       "      <td>48.200001</td>\n",
       "      <td>47.529999</td>\n",
       "      <td>48.480000</td>\n",
       "      <td>48.410000</td>\n",
       "      <td>42526.851562</td>\n",
       "      <td>...</td>\n",
       "      <td>39.980000</td>\n",
       "      <td>39.340000</td>\n",
       "      <td>40.419998</td>\n",
       "      <td>40.070000</td>\n",
       "      <td>131108.734375</td>\n",
       "      <td>62.580002</td>\n",
       "      <td>62.099998</td>\n",
       "      <td>62.700001</td>\n",
       "      <td>62.279999</td>\n",
       "      <td>36573.718750</td>\n",
       "    </tr>\n",
       "  </tbody>\n",
       "</table>\n",
       "<p>5 rows × 2495 columns</p>\n",
       "</div>"
      ],
      "text/plain": [
       "         A_open      A_low     A_high    A_close      A_volume   AAL_open  \\\n",
       "7661  58.500000  58.072498  59.340000  59.230000  40488.230469  46.740002   \n",
       "7662  59.459999  58.919998  59.700001  59.299999  23558.679688  46.990002   \n",
       "7663  59.230000  59.041000  59.720001  59.509998  15067.669922  47.790001   \n",
       "7664  59.509998  59.410000  60.480000  60.369999  25645.849609  48.320000   \n",
       "7665  60.439999  59.450001  60.810001  60.340000  23981.449219  48.200001   \n",
       "\n",
       "        AAL_low   AAL_high  AAL_close    AAL_volume      ...       ZION_open  \\\n",
       "7661  46.650002  47.430000  46.770000  38422.710938      ...       41.009998   \n",
       "7662  46.820000  48.119999  48.020000  52001.031250      ...       40.820000   \n",
       "7663  47.729401  48.820000  48.740002  59271.910156      ...       40.889999   \n",
       "7664  47.790001  48.577499  47.959999  53889.179688      ...       40.130001   \n",
       "7665  47.529999  48.480000  48.410000  42526.851562      ...       39.980000   \n",
       "\n",
       "       ZION_low  ZION_high  ZION_close    ZION_volume   ZTS_open    ZTS_low  \\\n",
       "7661  40.320000  41.160000   40.700001   25622.570312  61.430000  61.389999   \n",
       "7662  40.529999  41.189999   40.880001   31236.640625  62.560001  62.169998   \n",
       "7663  40.404999  41.200001   40.450001   21795.910156  62.779999  62.384998   \n",
       "7664  39.599998  40.320000   39.869999   32547.800781  62.369999  61.860001   \n",
       "7665  39.340000  40.419998   40.070000  131108.734375  62.580002  62.099998   \n",
       "\n",
       "       ZTS_high  ZTS_close    ZTS_volume  \n",
       "7661  62.485001  62.299999  36707.250000  \n",
       "7662  62.635799  62.580002  28093.179688  \n",
       "7663  63.110001  62.610001  19622.800781  \n",
       "7664  62.700001  62.259998  28803.050781  \n",
       "7665  62.700001  62.279999  36573.718750  \n",
       "\n",
       "[5 rows x 2495 columns]"
      ]
     },
     "execution_count": 15,
     "metadata": {},
     "output_type": "execute_result"
    }
   ],
   "source": [
    "price_df = pd.DataFrame(price_matrix, columns=column_names)\n",
    "price_df.tail()"
   ]
  },
  {
   "cell_type": "code",
   "execution_count": 16,
   "metadata": {
    "collapsed": true
   },
   "outputs": [],
   "source": [
    "price_df.to_csv('FullPriceData.csv', index=False)"
   ]
  },
  {
   "cell_type": "markdown",
   "metadata": {},
   "source": [
    "## Reloading the data\n",
    "\n",
    "The data has now been saved into a large CSV file for portability. The block below will load both CSV files and import the libraries so that the above section is not needed."
   ]
  },
  {
   "cell_type": "code",
   "execution_count": 1,
   "metadata": {
    "collapsed": true
   },
   "outputs": [],
   "source": [
    "import pandas as pd\n",
    "import numpy as np\n",
    "from datetime import *\n",
    "\n",
    "sp_500_index = pd.read_csv('GoodSP500Symbols.csv', header=0, encoding=\"ISO-8859-1\")\n",
    "price_df = pd.read_csv('FullPriceData.csv', header=0)\n",
    "\n",
    "all_tickers = sorted(sp_500_index.Symbol)\n",
    "variables = ['open', 'low', 'high', 'close', 'volume']"
   ]
  },
  {
   "cell_type": "code",
   "execution_count": 2,
   "metadata": {},
   "outputs": [
    {
     "data": {
      "text/html": [
       "<div>\n",
       "<table border=\"1\" class=\"dataframe\">\n",
       "  <thead>\n",
       "    <tr style=\"text-align: right;\">\n",
       "      <th></th>\n",
       "      <th>Symbol</th>\n",
       "      <th>Name</th>\n",
       "      <th>SEC</th>\n",
       "      <th>Sector</th>\n",
       "      <th>Industry</th>\n",
       "      <th>Headquarters</th>\n",
       "      <th>Listed</th>\n",
       "      <th>CIK</th>\n",
       "    </tr>\n",
       "  </thead>\n",
       "  <tbody>\n",
       "    <tr>\n",
       "      <th>0</th>\n",
       "      <td>MMM</td>\n",
       "      <td>3M Company</td>\n",
       "      <td>reports</td>\n",
       "      <td>Industrials</td>\n",
       "      <td>Industrial Conglomerates</td>\n",
       "      <td>St. Paul, Minnesota</td>\n",
       "      <td>NaN</td>\n",
       "      <td>66740</td>\n",
       "    </tr>\n",
       "    <tr>\n",
       "      <th>1</th>\n",
       "      <td>ABT</td>\n",
       "      <td>Abbott Laboratories</td>\n",
       "      <td>reports</td>\n",
       "      <td>Health Care</td>\n",
       "      <td>Health Care Equipment</td>\n",
       "      <td>North Chicago, Illinois</td>\n",
       "      <td>1964-03-31</td>\n",
       "      <td>1800</td>\n",
       "    </tr>\n",
       "    <tr>\n",
       "      <th>2</th>\n",
       "      <td>ABBV</td>\n",
       "      <td>AbbVie Inc.</td>\n",
       "      <td>reports</td>\n",
       "      <td>Health Care</td>\n",
       "      <td>Pharmaceuticals</td>\n",
       "      <td>North Chicago, Illinois</td>\n",
       "      <td>2012-12-31</td>\n",
       "      <td>1551152</td>\n",
       "    </tr>\n",
       "    <tr>\n",
       "      <th>3</th>\n",
       "      <td>ACN</td>\n",
       "      <td>Accenture plc</td>\n",
       "      <td>reports</td>\n",
       "      <td>Information Technology</td>\n",
       "      <td>IT Consulting &amp; Other Services</td>\n",
       "      <td>Dublin, Ireland</td>\n",
       "      <td>2011-07-06</td>\n",
       "      <td>1467373</td>\n",
       "    </tr>\n",
       "    <tr>\n",
       "      <th>4</th>\n",
       "      <td>ATVI</td>\n",
       "      <td>Activision Blizzard</td>\n",
       "      <td>reports</td>\n",
       "      <td>Information Technology</td>\n",
       "      <td>Home Entertainment Software</td>\n",
       "      <td>Santa Monica, California</td>\n",
       "      <td>2015-08-31</td>\n",
       "      <td>718877</td>\n",
       "    </tr>\n",
       "  </tbody>\n",
       "</table>\n",
       "</div>"
      ],
      "text/plain": [
       "  Symbol                 Name      SEC                  Sector  \\\n",
       "0    MMM           3M Company  reports             Industrials   \n",
       "1    ABT  Abbott Laboratories  reports             Health Care   \n",
       "2   ABBV          AbbVie Inc.  reports             Health Care   \n",
       "3    ACN        Accenture plc  reports  Information Technology   \n",
       "4   ATVI  Activision Blizzard  reports  Information Technology   \n",
       "\n",
       "                         Industry              Headquarters      Listed  \\\n",
       "0        Industrial Conglomerates       St. Paul, Minnesota         NaN   \n",
       "1           Health Care Equipment   North Chicago, Illinois  1964-03-31   \n",
       "2                 Pharmaceuticals   North Chicago, Illinois  2012-12-31   \n",
       "3  IT Consulting & Other Services           Dublin, Ireland  2011-07-06   \n",
       "4     Home Entertainment Software  Santa Monica, California  2015-08-31   \n",
       "\n",
       "       CIK  \n",
       "0    66740  \n",
       "1     1800  \n",
       "2  1551152  \n",
       "3  1467373  \n",
       "4   718877  "
      ]
     },
     "execution_count": 2,
     "metadata": {},
     "output_type": "execute_result"
    }
   ],
   "source": [
    "sp_500_index.head()"
   ]
  },
  {
   "cell_type": "code",
   "execution_count": 3,
   "metadata": {},
   "outputs": [
    {
     "data": {
      "text/html": [
       "<div>\n",
       "<table border=\"1\" class=\"dataframe\">\n",
       "  <thead>\n",
       "    <tr style=\"text-align: right;\">\n",
       "      <th></th>\n",
       "      <th>A_open</th>\n",
       "      <th>A_low</th>\n",
       "      <th>A_high</th>\n",
       "      <th>A_close</th>\n",
       "      <th>A_volume</th>\n",
       "      <th>AAL_open</th>\n",
       "      <th>AAL_low</th>\n",
       "      <th>AAL_high</th>\n",
       "      <th>AAL_close</th>\n",
       "      <th>AAL_volume</th>\n",
       "      <th>...</th>\n",
       "      <th>ZION_open</th>\n",
       "      <th>ZION_low</th>\n",
       "      <th>ZION_high</th>\n",
       "      <th>ZION_close</th>\n",
       "      <th>ZION_volume</th>\n",
       "      <th>ZTS_open</th>\n",
       "      <th>ZTS_low</th>\n",
       "      <th>ZTS_high</th>\n",
       "      <th>ZTS_close</th>\n",
       "      <th>ZTS_volume</th>\n",
       "    </tr>\n",
       "  </thead>\n",
       "  <tbody>\n",
       "    <tr>\n",
       "      <th>0</th>\n",
       "      <td>NaN</td>\n",
       "      <td>NaN</td>\n",
       "      <td>NaN</td>\n",
       "      <td>NaN</td>\n",
       "      <td>NaN</td>\n",
       "      <td>NaN</td>\n",
       "      <td>NaN</td>\n",
       "      <td>NaN</td>\n",
       "      <td>NaN</td>\n",
       "      <td>NaN</td>\n",
       "      <td>...</td>\n",
       "      <td>NaN</td>\n",
       "      <td>NaN</td>\n",
       "      <td>NaN</td>\n",
       "      <td>NaN</td>\n",
       "      <td>NaN</td>\n",
       "      <td>NaN</td>\n",
       "      <td>NaN</td>\n",
       "      <td>NaN</td>\n",
       "      <td>NaN</td>\n",
       "      <td>NaN</td>\n",
       "    </tr>\n",
       "    <tr>\n",
       "      <th>1</th>\n",
       "      <td>NaN</td>\n",
       "      <td>NaN</td>\n",
       "      <td>NaN</td>\n",
       "      <td>NaN</td>\n",
       "      <td>NaN</td>\n",
       "      <td>NaN</td>\n",
       "      <td>NaN</td>\n",
       "      <td>NaN</td>\n",
       "      <td>NaN</td>\n",
       "      <td>NaN</td>\n",
       "      <td>...</td>\n",
       "      <td>NaN</td>\n",
       "      <td>NaN</td>\n",
       "      <td>NaN</td>\n",
       "      <td>NaN</td>\n",
       "      <td>NaN</td>\n",
       "      <td>NaN</td>\n",
       "      <td>NaN</td>\n",
       "      <td>NaN</td>\n",
       "      <td>NaN</td>\n",
       "      <td>NaN</td>\n",
       "    </tr>\n",
       "    <tr>\n",
       "      <th>2</th>\n",
       "      <td>NaN</td>\n",
       "      <td>NaN</td>\n",
       "      <td>NaN</td>\n",
       "      <td>NaN</td>\n",
       "      <td>NaN</td>\n",
       "      <td>NaN</td>\n",
       "      <td>NaN</td>\n",
       "      <td>NaN</td>\n",
       "      <td>NaN</td>\n",
       "      <td>NaN</td>\n",
       "      <td>...</td>\n",
       "      <td>NaN</td>\n",
       "      <td>NaN</td>\n",
       "      <td>NaN</td>\n",
       "      <td>NaN</td>\n",
       "      <td>NaN</td>\n",
       "      <td>NaN</td>\n",
       "      <td>NaN</td>\n",
       "      <td>NaN</td>\n",
       "      <td>NaN</td>\n",
       "      <td>NaN</td>\n",
       "    </tr>\n",
       "    <tr>\n",
       "      <th>3</th>\n",
       "      <td>NaN</td>\n",
       "      <td>NaN</td>\n",
       "      <td>NaN</td>\n",
       "      <td>NaN</td>\n",
       "      <td>NaN</td>\n",
       "      <td>NaN</td>\n",
       "      <td>NaN</td>\n",
       "      <td>NaN</td>\n",
       "      <td>NaN</td>\n",
       "      <td>NaN</td>\n",
       "      <td>...</td>\n",
       "      <td>NaN</td>\n",
       "      <td>NaN</td>\n",
       "      <td>NaN</td>\n",
       "      <td>NaN</td>\n",
       "      <td>NaN</td>\n",
       "      <td>NaN</td>\n",
       "      <td>NaN</td>\n",
       "      <td>NaN</td>\n",
       "      <td>NaN</td>\n",
       "      <td>NaN</td>\n",
       "    </tr>\n",
       "    <tr>\n",
       "      <th>4</th>\n",
       "      <td>NaN</td>\n",
       "      <td>NaN</td>\n",
       "      <td>NaN</td>\n",
       "      <td>NaN</td>\n",
       "      <td>NaN</td>\n",
       "      <td>NaN</td>\n",
       "      <td>NaN</td>\n",
       "      <td>NaN</td>\n",
       "      <td>NaN</td>\n",
       "      <td>NaN</td>\n",
       "      <td>...</td>\n",
       "      <td>NaN</td>\n",
       "      <td>NaN</td>\n",
       "      <td>NaN</td>\n",
       "      <td>NaN</td>\n",
       "      <td>NaN</td>\n",
       "      <td>NaN</td>\n",
       "      <td>NaN</td>\n",
       "      <td>NaN</td>\n",
       "      <td>NaN</td>\n",
       "      <td>NaN</td>\n",
       "    </tr>\n",
       "  </tbody>\n",
       "</table>\n",
       "<p>5 rows × 2495 columns</p>\n",
       "</div>"
      ],
      "text/plain": [
       "   A_open  A_low  A_high  A_close  A_volume  AAL_open  AAL_low  AAL_high  \\\n",
       "0     NaN    NaN     NaN      NaN       NaN       NaN      NaN       NaN   \n",
       "1     NaN    NaN     NaN      NaN       NaN       NaN      NaN       NaN   \n",
       "2     NaN    NaN     NaN      NaN       NaN       NaN      NaN       NaN   \n",
       "3     NaN    NaN     NaN      NaN       NaN       NaN      NaN       NaN   \n",
       "4     NaN    NaN     NaN      NaN       NaN       NaN      NaN       NaN   \n",
       "\n",
       "   AAL_close  AAL_volume     ...      ZION_open  ZION_low  ZION_high  \\\n",
       "0        NaN         NaN     ...            NaN       NaN        NaN   \n",
       "1        NaN         NaN     ...            NaN       NaN        NaN   \n",
       "2        NaN         NaN     ...            NaN       NaN        NaN   \n",
       "3        NaN         NaN     ...            NaN       NaN        NaN   \n",
       "4        NaN         NaN     ...            NaN       NaN        NaN   \n",
       "\n",
       "   ZION_close  ZION_volume  ZTS_open  ZTS_low  ZTS_high  ZTS_close  ZTS_volume  \n",
       "0         NaN          NaN       NaN      NaN       NaN        NaN         NaN  \n",
       "1         NaN          NaN       NaN      NaN       NaN        NaN         NaN  \n",
       "2         NaN          NaN       NaN      NaN       NaN        NaN         NaN  \n",
       "3         NaN          NaN       NaN      NaN       NaN        NaN         NaN  \n",
       "4         NaN          NaN       NaN      NaN       NaN        NaN         NaN  \n",
       "\n",
       "[5 rows x 2495 columns]"
      ]
     },
     "execution_count": 3,
     "metadata": {},
     "output_type": "execute_result"
    }
   ],
   "source": [
    "price_df.head()"
   ]
  },
  {
   "cell_type": "markdown",
   "metadata": {},
   "source": [
    "# Build cross-correlation\n",
    "\n",
    "The next step is to construct the correlation matrix for all stocks. To do this, we want to compute the intracorrelation for each ticker based on the days in which we have prices for both symbols. This means that we need to compute the daily percent changes for each symbol, then compute a correlation coefficient between the two price change histories.\n",
    "\n",
    "To compute the correlation, we will compute the correlations between daily percent changes in open, low, high, and close prices, then take the average of the correlation coefficients."
   ]
  },
  {
   "cell_type": "markdown",
   "metadata": {},
   "source": [
    "**This correlation matrix takes an extremely long time to build because it has approximately 1,000,000 correlations to compute. The end of this section has a load call to load a saved version.**"
   ]
  },
  {
   "cell_type": "code",
   "execution_count": 13,
   "metadata": {
    "collapsed": true
   },
   "outputs": [],
   "source": [
    "def get_correlation(one, two):\n",
    "    one = one[~np.isnan(one)]\n",
    "    two = two[~np.isnan(two)]\n",
    "    \n",
    "    # While unlikely for S&P 500 stocks, if a symbol is not\n",
    "    # traded on a given day, the API reports 0 for the prices\n",
    "    one.ix[one == 0] = np.nan\n",
    "    two.ix[two == 0] = np.nan\n",
    "    \n",
    "    # Fill the new NaN values with the preceding non-NaN value\n",
    "    one = one.fillna(method='ffill')\n",
    "    two = two.fillna(method='ffill')\n",
    "    \n",
    "    one = one[~np.isnan(one)]\n",
    "    two = two[~np.isnan(two)]\n",
    "    \n",
    "    one = one.pct_change()[1:]\n",
    "    two = two.pct_change()[1:]\n",
    "    \n",
    "    correlation = np.corrcoef(one[-min(len(one), len(two)):], two[-min(len(one), len(two)):]).reshape(-1)[1]\n",
    "    if np.isnan(correlation):\n",
    "        raise Exception(\"NaN correlation\")\n",
    "    \n",
    "    return correlation**2"
   ]
  },
  {
   "cell_type": "markdown",
   "metadata": {},
   "source": [
    "This creates a matrix in which each entry is the $R^2$ correlation between the two stocks. So, the entry at $C_{i,j}$ shows the $R^2$ for the daily percent changes between stocks `i` and `j`."
   ]
  },
  {
   "cell_type": "code",
   "execution_count": 19,
   "metadata": {
    "collapsed": true
   },
   "outputs": [],
   "source": [
    "correlation_matrix = np.identity(len(all_tickers))\n",
    "temp = '%s_%s'\n",
    "\n",
    "for i in range(len(all_tickers)):\n",
    "    t1 = all_tickers[i]\n",
    "    for j in range(i+1, len(all_tickers)):\n",
    "        t2 = all_tickers[j]\n",
    "        corr = np.array([get_correlation(price_df[temp % (t1, v)], price_df[temp % (t2, v)]) for v in variables[:-1]]).mean()\n",
    "        correlation_matrix[i, j] = corr\n",
    "        correlation_matrix[j, i] = corr"
   ]
  },
  {
   "cell_type": "code",
   "execution_count": 20,
   "metadata": {},
   "outputs": [
    {
     "data": {
      "text/plain": [
       "array([[ 1.        ,  0.13604626,  0.00529054, ...,  0.15677208,\n",
       "         0.06669684,  0.12770011],\n",
       "       [ 0.13604626,  1.        ,  0.08331832, ...,  0.08807135,\n",
       "         0.11509309,  0.07498845],\n",
       "       [ 0.00529054,  0.08331832,  1.        , ...,  0.08239319,\n",
       "         0.00236167,  0.04141029],\n",
       "       ..., \n",
       "       [ 0.15677208,  0.08807135,  0.08239319, ...,  1.        ,\n",
       "         0.08867073,  0.12552557],\n",
       "       [ 0.06669684,  0.11509309,  0.00236167, ...,  0.08867073,\n",
       "         1.        ,  0.07399195],\n",
       "       [ 0.12770011,  0.07498845,  0.04141029, ...,  0.12552557,\n",
       "         0.07399195,  1.        ]])"
      ]
     },
     "execution_count": 20,
     "metadata": {},
     "output_type": "execute_result"
    }
   ],
   "source": [
    "correlation_matrix"
   ]
  },
  {
   "cell_type": "code",
   "execution_count": 21,
   "metadata": {
    "collapsed": true
   },
   "outputs": [],
   "source": [
    "np.save('correlation_matrix.npy', correlation_matrix)"
   ]
  },
  {
   "cell_type": "markdown",
   "metadata": {},
   "source": [
    "### Load the correlation matrix from file\n",
    "\n",
    "Given that the correlation matrix can take an extremely long time to load, I have saved it to a `.npy` file that can easily be loaded."
   ]
  },
  {
   "cell_type": "code",
   "execution_count": 4,
   "metadata": {},
   "outputs": [
    {
     "ename": "FileNotFoundError",
     "evalue": "[Errno 2] No such file or directory: 'correlation_matrix.npy'",
     "output_type": "error",
     "traceback": [
      "\u001b[0;31m---------------------------------------------------------------------------\u001b[0m",
      "\u001b[0;31mFileNotFoundError\u001b[0m                         Traceback (most recent call last)",
      "\u001b[0;32m<ipython-input-4-341eeb32c9e6>\u001b[0m in \u001b[0;36m<module>\u001b[0;34m()\u001b[0m\n\u001b[1;32m      1\u001b[0m \u001b[0;32mimport\u001b[0m \u001b[0mnumpy\u001b[0m \u001b[0;32mas\u001b[0m \u001b[0mnp\u001b[0m\u001b[0;34m\u001b[0m\u001b[0m\n\u001b[1;32m      2\u001b[0m \u001b[0;34m\u001b[0m\u001b[0m\n\u001b[0;32m----> 3\u001b[0;31m \u001b[0mcorrelation_matrix\u001b[0m \u001b[0;34m=\u001b[0m \u001b[0mnp\u001b[0m\u001b[0;34m.\u001b[0m\u001b[0mload\u001b[0m\u001b[0;34m(\u001b[0m\u001b[0;34m'correlation_matrix.npy'\u001b[0m\u001b[0;34m)\u001b[0m\u001b[0;34m\u001b[0m\u001b[0m\n\u001b[0m",
      "\u001b[0;32m/usr/local/lib/python3.6/site-packages/numpy/lib/npyio.py\u001b[0m in \u001b[0;36mload\u001b[0;34m(file, mmap_mode, allow_pickle, fix_imports, encoding)\u001b[0m\n\u001b[1;32m    368\u001b[0m     \u001b[0mown_fid\u001b[0m \u001b[0;34m=\u001b[0m \u001b[0;32mFalse\u001b[0m\u001b[0;34m\u001b[0m\u001b[0m\n\u001b[1;32m    369\u001b[0m     \u001b[0;32mif\u001b[0m \u001b[0misinstance\u001b[0m\u001b[0;34m(\u001b[0m\u001b[0mfile\u001b[0m\u001b[0;34m,\u001b[0m \u001b[0mbasestring\u001b[0m\u001b[0;34m)\u001b[0m\u001b[0;34m:\u001b[0m\u001b[0;34m\u001b[0m\u001b[0m\n\u001b[0;32m--> 370\u001b[0;31m         \u001b[0mfid\u001b[0m \u001b[0;34m=\u001b[0m \u001b[0mopen\u001b[0m\u001b[0;34m(\u001b[0m\u001b[0mfile\u001b[0m\u001b[0;34m,\u001b[0m \u001b[0;34m\"rb\"\u001b[0m\u001b[0;34m)\u001b[0m\u001b[0;34m\u001b[0m\u001b[0m\n\u001b[0m\u001b[1;32m    371\u001b[0m         \u001b[0mown_fid\u001b[0m \u001b[0;34m=\u001b[0m \u001b[0;32mTrue\u001b[0m\u001b[0;34m\u001b[0m\u001b[0m\n\u001b[1;32m    372\u001b[0m     \u001b[0;32melif\u001b[0m \u001b[0mis_pathlib_path\u001b[0m\u001b[0;34m(\u001b[0m\u001b[0mfile\u001b[0m\u001b[0;34m)\u001b[0m\u001b[0;34m:\u001b[0m\u001b[0;34m\u001b[0m\u001b[0m\n",
      "\u001b[0;31mFileNotFoundError\u001b[0m: [Errno 2] No such file or directory: 'correlation_matrix.npy'"
     ]
    }
   ],
   "source": [
    "import numpy as np\n",
    "\n",
    "correlation_matrix = np.load('correlation_matrix.npy')"
   ]
  },
  {
   "cell_type": "markdown",
   "metadata": {},
   "source": [
    "# Cluster Stocks by Correlation Matrix\n",
    "\n",
    "Spectral clustering is an effective way to compute clusters so long as there is a well-defined, positive "
   ]
  },
  {
   "cell_type": "code",
   "execution_count": 5,
   "metadata": {
    "collapsed": true
   },
   "outputs": [],
   "source": [
    "from sklearn.cluster import SpectralClustering\n",
    "\n",
    "n_clusters = sp_500_index.Industry.unique().shape[0]\n",
    "spectral = SpectralClustering(n_clusters=n_clusters, affinity=\"precomputed\")\n",
    "cluster_ids = pd.Series(spectral.fit_predict(correlation_matrix))"
   ]
  },
  {
   "cell_type": "markdown",
   "metadata": {},
   "source": [
    "# A Novel Trending Detection Algorithm\n",
    "\n",
    "Autocorrelation can be useful for detecting the seasonality of a time series. However, it is not entirely useful for determining longer term trends. For this, we introduce a novel trend detection algorithm for identifying whether a time series tends to have a trend over a given lag time. This can be done iteratively over several lag times to detect the optimal lag time for trends in the time series.\n",
    "\n",
    "For our initial demonstration, we will use IBM closing prices as the time series."
   ]
  },
  {
   "cell_type": "markdown",
   "metadata": {},
   "source": [
    "The first step for trend detection is to compute the mean and standard deviation of the daily returns."
   ]
  },
  {
   "cell_type": "code",
   "execution_count": 6,
   "metadata": {
    "collapsed": true
   },
   "outputs": [],
   "source": [
    "# This provides the utility used in the get_correlation function to remove the 0 values that are\n",
    "# used when a stock is not traded on a given market open day.\n",
    "def fix_ts(ts):\n",
    "    ts = ts[~np.isnan(ts)]\n",
    "    ts.ix[ts == 0] = np.nan\n",
    "    ts = ts.fillna(method='ffill')\n",
    "    ts = ts[~np.isnan(ts)]\n",
    "    return ts"
   ]
  },
  {
   "cell_type": "code",
   "execution_count": 21,
   "metadata": {
    "collapsed": true
   },
   "outputs": [],
   "source": [
    "ibm_ts = fix_ts(price_df['IBM_close'])\n",
    "mean_ibm = ibm_ts.diff()[1:].mean()\n",
    "std_ibm = ibm_ts.diff()[1:].std()"
   ]
  },
  {
   "cell_type": "code",
   "execution_count": 22,
   "metadata": {},
   "outputs": [
    {
     "name": "stdout",
     "output_type": "stream",
     "text": [
      "IBM daily mean: 0.02279141117193378\n",
      "IBM daily std : 1.7525834400149833\n",
      "\n",
      "Daily Sharpe: 0.013004465665691176\n",
      "Annual Sharpe: 0.20643949250818128\n"
     ]
    }
   ],
   "source": [
    "import math\n",
    "\n",
    "print('IBM daily mean: {}'.format(mean_ibm))\n",
    "print('IBM daily std : {}'.format(std_ibm))\n",
    "\n",
    "print()\n",
    "print('Daily Sharpe: {}'.format(mean_ibm / std_ibm))\n",
    "print('Annual Sharpe: {}'.format(252 * mean_ibm / (math.sqrt(252) * std_ibm)))"
   ]
  },
  {
   "cell_type": "markdown",
   "metadata": {},
   "source": [
    "The trend detection algorithm relies on the random walk theory. Random walk theory states that the share price of a company is unpredictable on a day-to-day basis. If this is true, then the cumulative changes experienced over n-days should be a random sample from the distribution of price changes (which can be performed via a Monte Carlo simulation such as Metropolis-Hastings).\n",
    "\n",
    "If we can assume that the daily price changes follow a normal distribution, then we can expect that the standard deviation over n-days is $\\mu / \\sqrt(n)$ per day, which becomes a cumulative expected change of $\\sqrt(n) \\cdot \\mu$.\n",
    "\n",
    "In our example, we make a few dangerous assumptions for ease of explanation and simplification of math:\n",
    "\n",
    "* We assume a normal distribution, which is not a good description for the daily price changes of a stock.\n",
    "* We are using the daily absolute change in price. Over the short term, we expect that this is reasonable because cumulative percent changes will not have taken effect. Over the long term, the product of the daily percent differences is a more accurate description of the movement of stock price."
   ]
  },
  {
   "cell_type": "markdown",
   "metadata": {},
   "source": [
    "First we define a function to determine the standard deviation of changes over a given lag period. We assume that the mean daily change is the same for these time periods, and therefore can be assumed as $t \\cdot \\mu$"
   ]
  },
  {
   "cell_type": "code",
   "execution_count": 221,
   "metadata": {
    "collapsed": true
   },
   "outputs": [],
   "source": [
    "def trending_sigma(x, t=1):\n",
    "    x = x.values.reshape(-1)\n",
    "    ts = x[t:len(x)] - x[0:len(x)-t]\n",
    "    return math.sqrt((((mean_ibm * t) - ts)**2).sum() / len(ts))\n",
    "    #return ts.std()"
   ]
  },
  {
   "cell_type": "code",
   "execution_count": 224,
   "metadata": {},
   "outputs": [
    {
     "data": {
      "text/plain": [
       "[<matplotlib.lines.Line2D at 0x1af1f2729e8>]"
      ]
     },
     "execution_count": 224,
     "metadata": {},
     "output_type": "execute_result"
    },
    {
     "data": {
      "image/png": "[encoded data removed]",
      "text/plain": [
       "<matplotlib.figure.Figure at 0x1af1f170400>"
      ]
     },
     "metadata": {},
     "output_type": "display_data"
    }
   ],
   "source": [
    "trending_std = np.array([trending_sigma(ibm_ts, t=t) for t in range(1, 1000)])\n",
    "\n",
    "from matplotlib import pyplot as plt\n",
    "%matplotlib inline\n",
    "\n",
    "plt.plot(trending_std)"
   ]
  },
  {
   "cell_type": "markdown",
   "metadata": {},
   "source": [
    "We expect that the above graph should roughly follow a square root growth in standard deviation. We can use this to compute the percentage of variance that is removed over the given time period to determine whether the stock truly follows a random walk over a set distribution."
   ]
  },
  {
   "cell_type": "markdown",
   "metadata": {},
   "source": [
    "To determine the percentage of variation relative to the expected variation over the time frame, we identify the true variation over a given time scale (which is given by the trending_std entry squared by the expected variation, which should be $(\\sqrt(n) \\cdot \\sigma_{t=1})^2 = n \\cdot sigma_{t=1}^2$. We then subtract this value from 1 to determine the percentage of the expected variance that was removed over that time frame relative to a random walk."
   ]
  },
  {
   "cell_type": "code",
   "execution_count": 225,
   "metadata": {},
   "outputs": [
    {
     "name": "stdout",
     "output_type": "stream",
     "text": [
      "Best trend: 251 days\n"
     ]
    },
    {
     "data": {
      "text/plain": [
       "<matplotlib.collections.LineCollection at 0x1af1f198240>"
      ]
     },
     "execution_count": 225,
     "metadata": {},
     "output_type": "execute_result"
    },
    {
     "data": {
      "image/png": "[encoded data removed]",
      "text/plain": [
       "<matplotlib.figure.Figure at 0x1af1f08a908>"
      ]
     },
     "metadata": {},
     "output_type": "display_data"
    }
   ],
   "source": [
    "import math\n",
    "\n",
    "def expected_var(std, t=1):\n",
    "    return (math.sqrt(t) * std)**2\n",
    "\n",
    "trending_rsquared = np.array([1. - t_std**2 / expected_var(std_ibm, t=t+1) for t, t_std in enumerate(trending_std)])\n",
    "largest = np.argmax(trending_rsquared)\n",
    "print('Best trend: {} days'.format(largest + 1))\n",
    "plt.plot(trending_rsquared)\n",
    "plt.vlines(largest, ymin=0, ymax=trending_rsquared[largest])"
   ]
  },
  {
   "cell_type": "markdown",
   "metadata": {},
   "source": [
    "This tells us that we see a distinct annual trend that reduces the volatility of the IBM closing price changes by approximately 40% relative to what we would expect assuming a random walk theory."
   ]
  },
  {
   "cell_type": "markdown",
   "metadata": {},
   "source": [
    "## Assessing profitability\n",
    "\n",
    "If we see evidence of trending over a given time frame, then we should expect that an exponential moving average over the time frame should show a smooth detection of a trend in the stock price.\n",
    "\n",
    "Our \"trading rule will be a simple exponential moving average over the past `t` days to produce the current trend. Our assumption is that the evidence of trending implies that a mean reversion should occur. Therefore, as the price moves above the exponential moving average, we expect that the trend's strength is unsustainably high (given the 40% reduction in variance over a year's time relative to the expected) and we sell short. If the price moves below the trend line, we expect that it is swinging too low (again, the variance is far below expected, which suggests that too many people are simply \"following the market\").\n",
    "\n",
    "Common practice when implementing trading rules and automated forecasts is to convert binary decisions (above or below the exponential moving average) into continuous values. In this case, a good approach is to find the standard deviation of the price relative to the moving average and then divide new differences by the standard deviation to get a z-score. We can interpret the z-score as the percentage of capital that should be allocated into the stock. A z-score of 0.65 indicates that we should be long with 65% of our trading capital and a z-score of -0.65 indicates that we should be short the same amount. Values outside -1 to 1 indicate the use of leverage.\n",
    "\n",
    "It is also common to cap the values at -2 to 2 to prevent over-leverage and over-confidence of the rules. We will also cap our short sells at -1 to account for the inherent extra risk of selling short.\n",
    "\n",
    "To calculate our scaling factor, we find the standard deviaton relative to the moving average for the first 2000 days and then multiply it by an additional 1.5 to provide an extra dose of caution."
   ]
  },
  {
   "cell_type": "code",
   "execution_count": 202,
   "metadata": {},
   "outputs": [
    {
     "name": "stderr",
     "output_type": "stream",
     "text": [
      "C:\\ProgramData\\Anaconda3\\lib\\site-packages\\ipykernel\\__main__.py:2: FutureWarning: pd.ewm_mean is deprecated for Series and will be removed in a future version, replace with \n",
      "\tSeries.ewm(span=252,min_periods=0,adjust=True,ignore_na=False).mean()\n",
      "  from ipykernel import kernelapp as app\n"
     ]
    },
    {
     "data": {
      "text/plain": [
       "[<matplotlib.lines.Line2D at 0x1af1eb066a0>]"
      ]
     },
     "execution_count": 202,
     "metadata": {},
     "output_type": "execute_result"
    },
    {
     "data": {
      "image/png": "[encoded data removed]",
      "text/plain": [
       "<matplotlib.figure.Figure at 0x1af1eb06780>"
      ]
     },
     "metadata": {},
     "output_type": "display_data"
    }
   ],
   "source": [
    "time_scale = 252\n",
    "ibm_ema = pd.ewma(ibm_ts, span=time_scale)\n",
    "#ibm_sma = pd.rolling_mean(ibm_ts, window=time_scale)\n",
    "\n",
    "plt.plot(ibm_ts.values)\n",
    "plt.plot(ibm_ema.values)"
   ]
  },
  {
   "cell_type": "code",
   "execution_count": 201,
   "metadata": {
    "collapsed": true
   },
   "outputs": [],
   "source": [
    "n_cal = 2000\n",
    "calibration = (ibm_ts.values - ibm_ema.values)[:n_cal]\n",
    "scaler = 1.5 * math.sqrt(np.sum((0 - calibration)**2) / calibration.shape[0])\n",
    "\n",
    "get_allocation = lambda i: -1 * (ibm_ts.values[n_cal + i] - ibm_ema.values[n_cal + i]) / scaler\n",
    "#get_allocation = lambda i: (ibm_ts.val)\n",
    "\n",
    "allocations = np.array([get_allocation(i) for i in range(len(ibm_ema.values) - n_cal)])[:-1]\n",
    "allocations = np.clip(allocations, -1, 2)\n",
    "\n",
    "ibm_test = pd.Series(ibm_ts.values).pct_change().values[n_cal + 1:]"
   ]
  },
  {
   "cell_type": "code",
   "execution_count": 181,
   "metadata": {},
   "outputs": [
    {
     "data": {
      "text/plain": [
       "[<matplotlib.lines.Line2D at 0x1af1e87ee10>]"
      ]
     },
     "execution_count": 181,
     "metadata": {},
     "output_type": "execute_result"
    },
    {
     "data": {
      "image/png": "[encoded data removed]",
      "text/plain": [
       "<matplotlib.figure.Figure at 0x1af1e81aa20>"
      ]
     },
     "metadata": {},
     "output_type": "display_data"
    }
   ],
   "source": [
    "plt.plot(allocations)"
   ]
  },
  {
   "cell_type": "markdown",
   "metadata": {},
   "source": [
    "Now that we have the allocation at any given time, shifted relative to the percent change that allocation would experience (the two time series are one day offset from each other, so that an allocation decision at Monday's close price is aligned with the percent change from Monday to the close of Tuesday. This allows us to compute the daily percent change experienced adjusted for the allocation that was made for that day."
   ]
  },
  {
   "cell_type": "code",
   "execution_count": 182,
   "metadata": {
    "collapsed": true
   },
   "outputs": [],
   "source": [
    "daily_changes = []\n",
    "\n",
    "for i in range(len(ibm_test)):\n",
    "    change = allocations[i] * ibm_test[i]\n",
    "    daily_changes.append(change)\n",
    "    \n",
    "daily_changes = np.array(daily_changes)"
   ]
  },
  {
   "cell_type": "markdown",
   "metadata": {},
   "source": [
    "We can then look at a graph of the daily changes and compute our expected Sharpe ratio."
   ]
  },
  {
   "cell_type": "code",
   "execution_count": 203,
   "metadata": {},
   "outputs": [
    {
     "name": "stdout",
     "output_type": "stream",
     "text": [
      "Daily changes mean: 0.00026932379453425346\n",
      "Daily changes Sharpe: 0.018513760004193282\n",
      "Annual Sharpe: 0.2938968288229773\n"
     ]
    },
    {
     "data": {
      "text/plain": [
       "[<matplotlib.lines.Line2D at 0x1af1eca7e80>]"
      ]
     },
     "execution_count": 203,
     "metadata": {},
     "output_type": "execute_result"
    },
    {
     "data": {
      "image/png": "[encoded data removed]",
      "text/plain": [
       "<matplotlib.figure.Figure at 0x1af1ec2b160>"
      ]
     },
     "metadata": {},
     "output_type": "display_data"
    }
   ],
   "source": [
    "print('Daily changes mean: {}'.format(daily_changes.mean()))\n",
    "print('Daily changes Sharpe: {}'.format(daily_changes.mean() / daily_changes.std()))\n",
    "print('Annual Sharpe: {}'.format(252 * daily_changes.mean() / (math.sqrt(252) * daily_changes.std())))\n",
    "plt.plot(daily_changes)"
   ]
  },
  {
   "cell_type": "code",
   "execution_count": 184,
   "metadata": {},
   "outputs": [
    {
     "name": "stdout",
     "output_type": "stream",
     "text": [
      "-0.111359833855\n",
      "0.191312949206\n"
     ]
    }
   ],
   "source": [
    "print(min(daily_changes))\n",
    "print(max(daily_changes))"
   ]
  },
  {
   "cell_type": "markdown",
   "metadata": {},
   "source": [
    "The cumulative product of the daily changes can be used to compute the cumulative growth of our capital."
   ]
  },
  {
   "cell_type": "code",
   "execution_count": 185,
   "metadata": {},
   "outputs": [
    {
     "name": "stdout",
     "output_type": "stream",
     "text": [
      "Final growth: 0.9864789308191246\n"
     ]
    },
    {
     "data": {
      "text/plain": [
       "[<matplotlib.lines.Line2D at 0x1af1e9a1b70>]"
      ]
     },
     "execution_count": 185,
     "metadata": {},
     "output_type": "execute_result"
    },
    {
     "data": {
      "image/png": "[encoded data removed]",
      "text/plain": [
       "<matplotlib.figure.Figure at 0x1af1e9390b8>"
      ]
     },
     "metadata": {},
     "output_type": "display_data"
    }
   ],
   "source": [
    "cumulative_growth = (daily_changes + 1).cumprod()\n",
    "\n",
    "print('Final growth: {}'.format(cumulative_growth[-1] - 1))\n",
    "plt.plot(cumulative_growth)"
   ]
  },
  {
   "cell_type": "markdown",
   "metadata": {},
   "source": [
    "And we can compare the starting value of our time period and the ending value to determine the success of a buy and hold strategy."
   ]
  },
  {
   "cell_type": "code",
   "execution_count": 186,
   "metadata": {},
   "outputs": [
    {
     "data": {
      "text/plain": [
       "1.5961307700163399"
      ]
     },
     "execution_count": 186,
     "metadata": {},
     "output_type": "execute_result"
    }
   ],
   "source": [
    "ibm_ts.values[-1] / ibm_ts.values[n_cal]"
   ]
  },
  {
   "cell_type": "markdown",
   "metadata": {},
   "source": [
    "Over approximately 16 years, we show approximately 100% growth using this strategy, which equates to roughly 5% per year. Over the same time period, we would see a 59% return from buying and holding IBM. This implies an alpha roughly doubling the market performance by identifying the trends that tend to occur over a year. We also see that a Sharpe ratio of 0.20 for a buy and hold strategy is improved to a ratio of 0.29.\n",
    "\n",
    "However, caution is warranted:\n",
    "\n",
    "* Because we sell short in some instances, we expose ourselves to additional risks. Selling short provides the potential for greater gains if you can accurately predict a drop in the market. However, the losses from selling short are potentially unlimited. As long as the stock continues to rise (behaving irrationally according to this strategy), the losses will continue to accumulate beyond the amount originally invested in the stock.\n",
    "* We do not consider transaction costs in our trading strategy, which will eat a large portion of the gains to be had, depending on the number of days between trades."
   ]
  },
  {
   "cell_type": "markdown",
   "metadata": {},
   "source": [
    "A more effective strategy would consider directionality through linear regression and work to identify the trend over the past year.\n",
    "\n",
    "Our method assumes that the true volatility implied by a move over the course of a year is lower than expected based on the reduction in variance relative to the predicted variance over the same time frame. We then make the bet that the swing is less dramatic than the price implies, so a mean reversion is likely.\n",
    "\n",
    "we believe that this algorithm has more use when combined with other forecasting methods to show that forecasts may be more accurate over certain time frames due to evidence of trending."
   ]
  },
  {
   "cell_type": "markdown",
   "metadata": {},
   "source": [
    "# Future Work\n",
    "\n",
    "## Multiple windowed trend prediction\n",
    "\n",
    "Because our time series has predicted the reduction in variance of trends over any given time period, we should theoretically be able to combine EMA computations over any time-span to build a distribution of likely values for each trend window. The combination of every possible trend window scaled by its trend likelihood (the $R^2$ given by the trend detection algorithm) should give us an overall accurate range of likely values the price will take over a longer period of time. This should provide a statistical advantage over general random walk theory or traditional regression and EMA strategies.\n",
    "\n",
    "## Trending as a cluster\n",
    "\n",
    "We have performed spectral clustering on the daily changes for the stocks to identify stocks that tend to move together. Our next steps with this would be to identify trends in the cluster based on the combined movement of the cluster. This should provide additional improvements from the multiple window prediction allowing us to also perform more sensitive arbitrage for stocks that trend over similar time frames but are moving in opposite directions over shorter timespans (indicating evidence of mean reversion)."
   ]
  }
 ],
 "metadata": {
  "kernelspec": {
   "display_name": "Python 3",
   "language": "python",
   "name": "python3"
  },
  "language_info": {
   "codemirror_mode": {
    "name": "ipython",
    "version": 3
   },
   "file_extension": ".py",
   "mimetype": "text/x-python",
   "name": "python",
   "nbconvert_exporter": "python",
   "pygments_lexer": "ipython3",
   "version": "3.6.1"
  }
 },
 "nbformat": 4,
 "nbformat_minor": 2
}
